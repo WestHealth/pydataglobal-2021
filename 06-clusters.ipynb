{
 "cells": [
  {
   "cell_type": "markdown",
   "metadata": {},
   "source": [
    "# Cluster Plot"
   ]
  },
  {
   "cell_type": "code",
   "execution_count": null,
   "metadata": {},
   "outputs": [],
   "source": [
    "import geopandas as gpd\n",
    "import pandas as pd\n",
    "import json\n",
    "import random\n",
    "from jupyter_dash import JupyterDash\n",
    "from dash import html\n",
    "import dash_leaflet as dl\n",
    "import dash_leaflet.express as dlx\n",
    "from dash_extensions.javascript import assign"
   ]
  },
  {
   "cell_type": "code",
   "execution_count": null,
   "metadata": {},
   "outputs": [],
   "source": [
    "from jupyter_dash.comms import _send_jupyter_config_comm_request\n",
    "_send_jupyter_config_comm_request()"
   ]
  },
  {
   "cell_type": "markdown",
   "metadata": {},
   "source": [
    "### Prepare the Data\n",
    "Note I added a tooltip. It works the same way as boundaries"
   ]
  },
  {
   "cell_type": "code",
   "execution_count": null,
   "metadata": {},
   "outputs": [],
   "source": [
    "df = pd.read_csv('data/uscities.csv')  # https://simplemaps.com/data/us-cities\n",
    "cities = gpd.GeoDataFrame(df, geometry=gpd.points_from_xy(df.lng, df.lat))\n",
    "\n",
    "statecities = cities[cities.state_id == 'NJ'].copy(deep=True)\n",
    "statecities['tooltip'] = statecities.city"
   ]
  },
  {
   "cell_type": "code",
   "execution_count": null,
   "metadata": {},
   "outputs": [],
   "source": [
    "JupyterDash.infer_jupyter_proxy_config()"
   ]
  },
  {
   "cell_type": "markdown",
   "metadata": {},
   "source": [
    "#### Convert the data to geobuf then setup color bars as before"
   ]
  },
  {
   "cell_type": "code",
   "execution_count": null,
   "metadata": {},
   "outputs": [],
   "source": [
    "geojson = json.loads(statecities.to_json())\n",
    "geobuf = dlx.geojson_to_geobuf(geojson)  # convert to geobuf"
   ]
  },
  {
   "cell_type": "code",
   "execution_count": null,
   "metadata": {},
   "outputs": [],
   "source": [
    "colorscale = ['red', 'yellow', 'green', 'blue', 'purple']  # rainbow\n",
    "chroma = \"https://cdnjs.cloudflare.com/ajax/libs/chroma-js/2.1.0/chroma.min.js\"  # js lib used for colors\n",
    "color_prop = 'density'\n",
    "\n",
    "vmax = df[color_prop].max()\n",
    "colorbar = dl.Colorbar(colorscale=colorscale,\n",
    "                       width=20,\n",
    "                       height=150,\n",
    "                       min=0,\n",
    "                       max=vmax,\n",
    "                       unit='/km2')\n",
    "# Geojson rendering logic, must be JavaScript as it is executed in clientside.\n",
    "point_to_layer = assign(\"\"\"function(feature, latlng, context){\n",
    "    const {min, max, colorscale, circleOptions, colorProp} = context.props.hideout;\n",
    "    const csc = chroma.scale(colorscale).domain([min, max]);  // chroma lib to construct colorscale\n",
    "    circleOptions.fillColor = csc(feature.properties[colorProp]);  // set color based on color prop.\n",
    "    return L.circleMarker(latlng, circleOptions);  // sender a simple circle marker.\n",
    "}\"\"\")"
   ]
  },
  {
   "cell_type": "markdown",
   "metadata": {},
   "source": [
    "## Clustering\n",
    "Based on mapbox's supercluster: https://github.com/mapbox/supercluster. You can pass cluster options to supercluster using the `superClusterOptions` property. \n",
    "### Key superClusterOptions\n",
    "* `minZoom`\t- Minimum zoom level at which clusters are generated.\n",
    "* `maxZoom`\t- Maximum zoom level at which clusters are generated.\n",
    "* `minPoints`\t-\tMinimum number of points to form a cluster.\n",
    "* `radius` - Cluster radius.\t\n",
    "\n",
    "### zoomToBoundsOnClick behavior\n",
    "If turned on clicking on a cluster zooms in until based on clustering rules, the cluster subdivides."
   ]
  },
  {
   "cell_type": "code",
   "execution_count": null,
   "metadata": {},
   "outputs": [],
   "source": [
    "cities = dl.GeoJSON(data=geobuf,\n",
    "                    id=\"geojson\",\n",
    "                    format=\"geobuf\",\n",
    "                    options=dict(pointToLayer=point_to_layer),\n",
    "                    cluster=True,\n",
    "                    zoomToBoundsOnClick=True,\n",
    "                    superClusterOptions=dict(radius=40),\n",
    "                    hideout=dict(colorProp=color_prop,\n",
    "                                 circleOptions=dict(fillOpacity=1,\n",
    "                                                    stroke=False,\n",
    "                                                    radius=3),\n",
    "                                 min=0,\n",
    "                                 max=vmax,\n",
    "                                 colorscale=colorscale))\n",
    "\n",
    "app = JupyterDash(external_scripts=[chroma])\n",
    "app.layout = html.Div([\n",
    "    dl.Map(children=[dl.TileLayer(), cities, colorbar],\n",
    "           center=[40.5, -73],\n",
    "           zoom=7,\n",
    "           style={\n",
    "               'width': '1000px',\n",
    "               'height': '500px'\n",
    "           },\n",
    "           id=\"map\")\n",
    "])\n",
    "app.run_server(mode='inline', port=random.choice(range(2000, 10000)))"
   ]
  },
  {
   "cell_type": "markdown",
   "metadata": {},
   "source": [
    "### Reminder most component properties can be changed in a callback\n",
    "For fun the `cluster` property is toggled here"
   ]
  },
  {
   "cell_type": "code",
   "execution_count": null,
   "metadata": {},
   "outputs": [],
   "source": [
    "from dash.dependencies import Input, Output\n",
    "cities = dl.GeoJSON(data=geobuf,\n",
    "                    id=\"geojson\",\n",
    "                    format=\"geobuf\",\n",
    "                    options=dict(pointToLayer=point_to_layer),\n",
    "                    cluster=True,\n",
    "                    superClusterOptions=dict(radius=100, minPoints=5),\n",
    "                    hideout=dict(colorProp=color_prop,\n",
    "                                 circleOptions=dict(fillOpacity=1,\n",
    "                                                    stroke=False,\n",
    "                                                    radius=3),\n",
    "                                 min=0,\n",
    "                                 max=vmax,\n",
    "                                 colorscale=colorscale))\n",
    "\n",
    "app = JupyterDash(external_scripts=[chroma])\n",
    "app.layout = html.Div([\n",
    "    dl.Map(children=[dl.TileLayer(), cities, colorbar],\n",
    "           center=[40.5, -73],\n",
    "           zoom=7,\n",
    "           style={\n",
    "               'width': '1000px',\n",
    "               'height': '500px'\n",
    "           },\n",
    "           id=\"map\"),\n",
    "    html.Button(\"Click Me!\", id='btn')\n",
    "])\n",
    "\n",
    "\n",
    "@app.callback(Output('geojson', 'cluster'), Input('btn', 'n_clicks'))\n",
    "def filter(input_):\n",
    "    if input_:\n",
    "        return (input_ % 2 == 1)\n",
    "\n",
    "\n",
    "app.run_server(mode='inline', port=random.choice(range(2000, 10000)))"
   ]
  },
  {
   "cell_type": "code",
   "execution_count": null,
   "metadata": {},
   "outputs": [],
   "source": [
    "# Changing the type of marker\n",
    "cluster_to_layer1 = assign(\"\"\"function(feature, latlng, index, context){\n",
    "    \n",
    "    // Render a circle with the number of leaves written in the center.\n",
    "    const icon = L.divIcon.scatter({\n",
    "        html: '<div style=\"background-color:white;\"><span>' + feature.properties.point_count_abbreviated + '</span></div>',\n",
    "        className: \"marker-cluster\",\n",
    "        iconSize: L.point(40, 40),\n",
    "        color: 'black'\n",
    "    });\n",
    "    return L.marker(latlng, {icon : icon})\n",
    "}\"\"\")"
   ]
  },
  {
   "cell_type": "code",
   "execution_count": null,
   "metadata": {},
   "outputs": [],
   "source": [
    "# Matching colorbar\n",
    "cluster_to_layer2 = assign(\"\"\"function(feature, latlng, index, context){\n",
    "    const {min, max, colorscale, circleOptions, colorProp} = context.props.hideout;\n",
    "    const csc = chroma.scale(colorscale).domain([min, max]);\n",
    "    // Set color based on mean value of leaves.\n",
    "    const leaves = index.getLeaves(feature.properties.cluster_id);\n",
    "    let valueSum = 0;\n",
    "    for (let i = 0; i < leaves.length; ++i) {\n",
    "        valueSum += leaves[i].properties[colorProp]\n",
    "    }\n",
    "    const valueMean = valueSum / leaves.length;\n",
    "    // Render a circle with the number of leaves written in the center.\n",
    "    const icon = L.divIcon.scatter({\n",
    "        html: '<div style=\"background-color:white;\"><span>' + feature.properties.point_count_abbreviated + '</span></div>',\n",
    "        className: \"marker-cluster\",\n",
    "        iconSize: L.point(40, 40),\n",
    "        color: csc(valueMean)\n",
    "    });\n",
    "    return L.marker(latlng, {icon : icon})\n",
    "}\"\"\")"
   ]
  },
  {
   "cell_type": "code",
   "execution_count": null,
   "metadata": {},
   "outputs": [],
   "source": [
    "# Adding tooltip\n",
    "cluster_to_layer3 = assign(\"\"\"function(feature, latlng, index, context){\n",
    "    const {min, max, colorscale, circleOptions, colorProp} = context.props.hideout;\n",
    "    const csc = chroma.scale(colorscale).domain([min, max]);\n",
    "    // Set color based on mean value of leaves.\n",
    "    const leaves = index.getLeaves(feature.properties.cluster_id);\n",
    "    let valueSum = 0;\n",
    "    for (let i = 0; i < leaves.length; ++i) {\n",
    "        valueSum += leaves[i].properties[colorProp]\n",
    "    }\n",
    "    const valueMean = valueSum / leaves.length;\n",
    "    // Render a circle with the number of leaves written in the center.\n",
    "    feature.properties.tooltip='Number: '+feature.properties.point_count_abbreviated+'<BR> Mean Value: '+valueMean;\n",
    "    const icon = L.divIcon.scatter({\n",
    "        html: '<div style=\"background-color:white;\"><span>' + feature.properties.point_count_abbreviated + '</span></div>',\n",
    "        className: \"marker-cluster\",\n",
    "        iconSize: L.point(40, 40),\n",
    "        color: csc(valueMean)\n",
    "    });\n",
    "    return L.marker(latlng, {icon : icon})\n",
    "}\"\"\")"
   ]
  },
  {
   "cell_type": "code",
   "execution_count": null,
   "metadata": {},
   "outputs": [],
   "source": [
    "cities = dl.GeoJSON(\n",
    "    data=geobuf,\n",
    "    id=\"geojson\",\n",
    "    format=\"geobuf\",\n",
    "    cluster=True,\n",
    "    clusterToLayer=cluster_to_layer1,\n",
    "    zoomToBoundsOnClick=True,\n",
    "    options=dict(pointToLayer=point_to_layer),\n",
    "    superClusterOptions=dict(radius=150),  # adjust cluster size\n",
    "    hideout=dict(colorProp=color_prop,\n",
    "                 circleOptions=dict(fillOpacity=1, stroke=False, radius=5),\n",
    "                 min=0,\n",
    "                 max=vmax,\n",
    "                 colorscale=colorscale))\n",
    "\n",
    "app = JupyterDash(external_scripts=[chroma])\n",
    "app.layout = html.Div([\n",
    "    dl.Map(children=[dl.TileLayer(), cities, colorbar],\n",
    "           center=[40.5, -73],\n",
    "           zoom=7,\n",
    "           style={\n",
    "               'width': '1000px',\n",
    "               'height': '500px'\n",
    "           },\n",
    "           id=\"map\")\n",
    "])\n",
    "app.run_server(mode='inline', port=random.choice(range(2000, 10000)))"
   ]
  },
  {
   "cell_type": "code",
   "execution_count": null,
   "metadata": {},
   "outputs": [],
   "source": []
  }
 ],
 "metadata": {
  "kernelspec": {
   "display_name": "Python 3",
   "language": "python",
   "name": "python3"
  },
  "language_info": {
   "codemirror_mode": {
    "name": "ipython",
    "version": 3
   },
   "file_extension": ".py",
   "mimetype": "text/x-python",
   "name": "python",
   "nbconvert_exporter": "python",
   "pygments_lexer": "ipython3",
   "version": "3.8.5"
  }
 },
 "nbformat": 4,
 "nbformat_minor": 5
}
