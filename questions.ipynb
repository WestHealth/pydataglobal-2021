{
 "cells": [
  {
   "cell_type": "markdown",
   "id": "73346900-5936-473a-9ae9-586fecfed016",
   "metadata": {},
   "source": [
    "# Questions\n",
    "\n",
    "@Haw-minn Lu on PyData Global's slack for next couple of hours\n",
    "\n",
    "Create an issue on github at https://github.com/WestHealth/tutorial-blog-material"
   ]
  },
  {
   "cell_type": "code",
   "execution_count": null,
   "id": "e644dfc4-0608-4a97-a3fd-f7ef6ea53a73",
   "metadata": {},
   "outputs": [],
   "source": []
  }
 ],
 "metadata": {
  "kernelspec": {
   "display_name": "Python 3 (ipykernel)",
   "language": "python",
   "name": "python3"
  },
  "language_info": {
   "codemirror_mode": {
    "name": "ipython",
    "version": 3
   },
   "file_extension": ".py",
   "mimetype": "text/x-python",
   "name": "python",
   "nbconvert_exporter": "python",
   "pygments_lexer": "ipython3",
   "version": "3.9.7"
  }
 },
 "nbformat": 4,
 "nbformat_minor": 5
}
