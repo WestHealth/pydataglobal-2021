{
 "cells": [
  {
   "cell_type": "markdown",
   "metadata": {},
   "source": [
    "# Geographic Data Handling\n",
    "\n",
    "## Data Sources\n",
    "\n",
    " * [US Census Bureau](https://www.census.gov) Look for Cartographic Boundary files\n",
    " * [open street map project](https://www.openstreetmap.org). \n",
    " * [simplemaps.com](https://simplemaps.com/data/us-cities), distributed under the [Creative Commons Attribution 4.0]\n",
    "\n",
    "## Data Formats\n",
    " * GeoJSON\n",
    " * GeoBuf"
   ]
  },
  {
   "cell_type": "markdown",
   "metadata": {},
   "source": [
    "## Simple Example: County File\n",
    "\n",
    "This line of code loads a census county cartographic boundary file. The `GeoDataFrame` structurally looks like a `pandas` dataframe with a special `geometry column`"
   ]
  },
  {
   "cell_type": "code",
   "execution_count": null,
   "metadata": {},
   "outputs": [],
   "source": [
    "import geopandas as gpd\n",
    "zipfile = \"zip://data/cb_2018_us_county_20m.zip\"\n",
    "gdf = gpd.read_file(zipfile)\n",
    "gdf"
   ]
  },
  {
   "cell_type": "markdown",
   "metadata": {},
   "source": [
    "### Geometry\n",
    "The geometry column is a `shaply.geometry` object which is recognized by `matplotlib` and will display by default in Jupyter.\n",
    "Basic types are polygons, multi-polygons, points, and multi-points."
   ]
  },
  {
   "cell_type": "code",
   "execution_count": null,
   "metadata": {},
   "outputs": [],
   "source": [
    "gdf.iloc[1856]"
   ]
  },
  {
   "cell_type": "code",
   "execution_count": null,
   "metadata": {},
   "outputs": [],
   "source": [
    "gdf.iloc[1856]['geometry']"
   ]
  },
  {
   "cell_type": "code",
   "execution_count": null,
   "metadata": {},
   "outputs": [],
   "source": [
    "gdf.iloc[1297]"
   ]
  },
  {
   "cell_type": "code",
   "execution_count": null,
   "metadata": {},
   "outputs": [],
   "source": [
    "gdf.iloc[1297]['geometry']"
   ]
  },
  {
   "cell_type": "markdown",
   "metadata": {},
   "source": [
    "### FIPS codes\n",
    "\n",
    "Federal Information Processing Standards (FIPS) are worth mentioning. FIPS codes uniquely identify all US Territories, Counties and States and are better way to deal geographic regions to avoid issues with mispellings and alternate spellings. State FIPS concatenated with the county FIPS is sometimes called the GEOID"
   ]
  },
  {
   "cell_type": "markdown",
   "metadata": {},
   "source": [
    "## Break and Demonstration\n",
    "\n",
    "A little break to allow everyone to get their systems up. I'll go over a list of custom features used in\n",
    "https://www.westhealth.org/resource/vaxmap-potential-covid-19-vaccine-locations/"
   ]
  },
  {
   "cell_type": "code",
   "execution_count": null,
   "metadata": {},
   "outputs": [],
   "source": []
  }
 ],
 "metadata": {
  "kernelspec": {
   "display_name": "Python 3",
   "language": "python",
   "name": "python3"
  },
  "language_info": {
   "codemirror_mode": {
    "name": "ipython",
    "version": 3
   },
   "file_extension": ".py",
   "mimetype": "text/x-python",
   "name": "python",
   "nbconvert_exporter": "python",
   "pygments_lexer": "ipython3",
   "version": "3.8.5"
  }
 },
 "nbformat": 4,
 "nbformat_minor": 5
}
