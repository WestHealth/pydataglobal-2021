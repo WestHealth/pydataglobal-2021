{
 "cells": [
  {
   "cell_type": "markdown",
   "id": "5e723a8d",
   "metadata": {},
   "source": [
    "# Choropleth Map"
   ]
  },
  {
   "cell_type": "code",
   "execution_count": null,
   "id": "88120e66",
   "metadata": {},
   "outputs": [],
   "source": [
    "import dash\n",
    "import dash_leaflet as dl\n",
    "from jupyter_dash import JupyterDash\n",
    "import random\n",
    "import pandas as pd"
   ]
  },
  {
   "cell_type": "code",
   "execution_count": null,
   "id": "80b27b26",
   "metadata": {},
   "outputs": [],
   "source": [
    "from jupyter_dash.comms import _send_jupyter_config_comm_request\n",
    "_send_jupyter_config_comm_request()"
   ]
  },
  {
   "cell_type": "code",
   "execution_count": null,
   "id": "85d1e4d0",
   "metadata": {},
   "outputs": [],
   "source": [
    "import geopandas as gpd\n",
    "import json\n",
    "zipfile = \"zip://data/cb_2018_us_state_20m.zip\"\n",
    "states = gpd.read_file(zipfile)"
   ]
  },
  {
   "cell_type": "code",
   "execution_count": null,
   "id": "da2a592d",
   "metadata": {},
   "outputs": [],
   "source": [
    "JupyterDash.infer_jupyter_proxy_config()"
   ]
  },
  {
   "cell_type": "markdown",
   "id": "3ca71521",
   "metadata": {},
   "source": [
    "### Data Prep: Merging COVID data with states geography"
   ]
  },
  {
   "cell_type": "code",
   "execution_count": null,
   "id": "33eec9f9",
   "metadata": {},
   "outputs": [],
   "source": [
    "covid = pd.read_csv('data/10-19-2021.csv').astype({'FIPS': int})"
   ]
  },
  {
   "cell_type": "code",
   "execution_count": null,
   "id": "b732be9d",
   "metadata": {},
   "outputs": [],
   "source": [
    "coviddf = states.astype({\n",
    "    'STATEFP': int\n",
    "}).merge(covid, how='left', left_on='STATEFP', right_on='FIPS')"
   ]
  },
  {
   "cell_type": "code",
   "execution_count": null,
   "id": "2aeed45d",
   "metadata": {},
   "outputs": [],
   "source": [
    "from dash_extensions.javascript import arrow_function, assign, Namespace\n",
    "import dash_leaflet.express as dlx\n",
    "import dash.html as html\n",
    "import dash"
   ]
  },
  {
   "cell_type": "markdown",
   "id": "0802c65b",
   "metadata": {},
   "source": [
    "### Dynamic Styling via javascript\n",
    "Special note about the `hideout` property. It is a generic storage area to pass attributes defined by the constructor (or modified by the callback) and accessible by the javascript functions via the `context`"
   ]
  },
  {
   "cell_type": "markdown",
   "id": "0ae8b533",
   "metadata": {},
   "source": [
    "#### New Component:\n",
    "The `dl.Colorbar` component is created for dash-leaflet. There are continuous and categorical color bars. Here's the basic usage:\n",
    "\n",
    "```\n",
    "dl.Colorbar(children, id, className, classes, colorscale, height, imax, min, nTicks, opacity, position, style, tickDecimals, tickText, tickValues, tooltip, unit, width)\n",
    "```\n",
    "There is a helper functions in `dash_leaflet.express`, `categorical_colorbar` for making categorical colorbars."
   ]
  },
  {
   "cell_type": "code",
   "execution_count": null,
   "id": "444947a8",
   "metadata": {},
   "outputs": [],
   "source": [
    "classes = [0, 10000, 30000, 100000, 300000, 1000000, 30000000, 10000000]\n",
    "ctg = ['0+', '10k+', '30k+', '100k+', '300k+', '1M+', '3M+', '10M+']\n",
    "colorscale = [\n",
    "    '#FFEDA0', '#FED976', '#FEB24C', '#FD8D3C', '#FC4E2A', '#E31A1C',\n",
    "    '#BD0026', '#800026'\n",
    "]\n",
    "# Create colorbar.\n",
    "colorbar = dlx.categorical_colorbar(categories=ctg,\n",
    "                                    colorscale=colorscale,\n",
    "                                    width=300,\n",
    "                                    height=30,\n",
    "                                    position=\"bottomleft\")"
   ]
  },
  {
   "cell_type": "markdown",
   "id": "371bdf23",
   "metadata": {},
   "source": [
    "#### Inline"
   ]
  },
  {
   "cell_type": "code",
   "execution_count": null,
   "id": "febbde9e",
   "metadata": {},
   "outputs": [],
   "source": [
    "style_handle = assign(\"\"\"function(feature, context){\n",
    "    const {classes, colorscale, style, colorProp} = context.props.hideout;  // get props from hideout\n",
    "    const value = feature.properties[colorProp];  // get value the determines the color\n",
    "    for (let i = 0; i < classes.length; ++i) {\n",
    "        if (value > classes[i]) {\n",
    "            style.fillColor = colorscale[i];  // set the fill color according to the class\n",
    "        }\n",
    "    }\n",
    "    return style;\n",
    "}\"\"\")"
   ]
  },
  {
   "cell_type": "markdown",
   "id": "370192eb",
   "metadata": {},
   "source": [
    "#### Using Namespace\n",
    "\n",
    "Alternatively create your own namespace and include as a javascript asset\n",
    "\n",
    "*from the file* `assets/choropleth_demo.js`\n",
    "```javascript\n",
    "window.choropleth_demo = Object.assign({}, window.choropleth_demo, {\n",
    "    covid: {\n",
    "        StyleHandler: function(feature, context) {\n",
    "            const {\n",
    "                classes,\n",
    "                colorscale,\n",
    "                style,\n",
    "                colorProp\n",
    "            } = context.props.hideout; // get props from hideout\n",
    "            const value = feature.properties[colorProp]; // get value the determines the color\n",
    "            for (let i = 0; i < classes.length; ++i) {\n",
    "                if (value > classes[i]) {\n",
    "                    style.fillColor = colorscale[i]; // set the fill color according to the class\n",
    "                }\n",
    "            }\n",
    "            return style;\n",
    "        }\n",
    "    }\n",
    "})\n",
    "```"
   ]
  },
  {
   "cell_type": "code",
   "execution_count": null,
   "id": "c0552d39",
   "metadata": {},
   "outputs": [],
   "source": [
    "style_handle = Namespace('choropleth_demo', 'covid')('StyleHandler')"
   ]
  },
  {
   "cell_type": "code",
   "execution_count": null,
   "id": "55af311e",
   "metadata": {},
   "outputs": [],
   "source": [
    "style = dict(weight=2,\n",
    "             opacity=1,\n",
    "             color='white',\n",
    "             dashArray='3',\n",
    "             fillOpacity=0.7)\n",
    "\n",
    "# Create geojson.\n",
    "geojson = dl.GeoJSON(\n",
    "    data=json.loads(coviddf.to_json()),\n",
    "    options=dict(style=style_handle),  # Here's the magic\n",
    "    hideout=dict(colorscale=colorscale,\n",
    "                 classes=classes,\n",
    "                 style=style,\n",
    "                 colorProp=\"Confirmed\"),\n",
    "    id=\"geojson\")\n",
    "\n",
    "# Create app.\n",
    "app = JupyterDash()\n",
    "app.layout = html.Div([\n",
    "    dl.Map(\n",
    "        children=[dl.TileLayer(), geojson, colorbar], center=[39, -98], zoom=4)\n",
    "],\n",
    "                      style={\n",
    "                          'width': '1000px',\n",
    "                          'height': '500px'\n",
    "                      },\n",
    "                      id=\"map\")\n",
    "app.run_server(mode='inline', port=random.choice(range(2000, 10000)))"
   ]
  },
  {
   "cell_type": "code",
   "execution_count": null,
   "id": "5a8ef82d",
   "metadata": {},
   "outputs": [],
   "source": []
  }
 ],
 "metadata": {
  "kernelspec": {
   "display_name": "Python 3 (ipykernel)",
   "language": "python",
   "name": "python3"
  },
  "language_info": {
   "codemirror_mode": {
    "name": "ipython",
    "version": 3
   },
   "file_extension": ".py",
   "mimetype": "text/x-python",
   "name": "python",
   "nbconvert_exporter": "python",
   "pygments_lexer": "ipython3",
   "version": "3.9.7"
  }
 },
 "nbformat": 4,
 "nbformat_minor": 5
}
