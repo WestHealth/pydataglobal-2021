{
 "cells": [
  {
   "cell_type": "markdown",
   "id": "08ff976a",
   "metadata": {},
   "source": [
    "# Point Data/Scatter Plot"
   ]
  },
  {
   "cell_type": "code",
   "execution_count": null,
   "id": "57e99a88",
   "metadata": {},
   "outputs": [],
   "source": [
    "import geopandas as gpd\n",
    "import pandas as pd\n",
    "import json\n",
    "import random\n",
    "from jupyter_dash import JupyterDash"
   ]
  },
  {
   "cell_type": "code",
   "execution_count": null,
   "id": "6df40987",
   "metadata": {},
   "outputs": [],
   "source": [
    "from jupyter_dash.comms import _send_jupyter_config_comm_request\n",
    "_send_jupyter_config_comm_request()"
   ]
  },
  {
   "cell_type": "markdown",
   "id": "0c47d1c2",
   "metadata": {},
   "source": [
    "### Prepare the Data\n",
    "Note I added a tooltip. It works the same way as boundaries"
   ]
  },
  {
   "cell_type": "code",
   "execution_count": null,
   "id": "403ffaf0",
   "metadata": {},
   "outputs": [],
   "source": [
    "df = pd.read_csv('data/uscities.csv')  # https://simplemaps.com/data/us-cities\n",
    "cities = gpd.GeoDataFrame(df, geometry=gpd.points_from_xy(df.lng, df.lat))\n",
    "\n",
    "statecities = cities[cities.state_id == 'NJ'].copy(deep=True)\n",
    "statecities['tooltip'] = statecities.city"
   ]
  },
  {
   "cell_type": "code",
   "execution_count": null,
   "id": "d971a3d8",
   "metadata": {},
   "outputs": [],
   "source": [
    "JupyterDash.infer_jupyter_proxy_config()"
   ]
  },
  {
   "cell_type": "code",
   "execution_count": null,
   "id": "e43d9856",
   "metadata": {},
   "outputs": [],
   "source": [
    "from dash import html\n",
    "import dash_leaflet as dl\n",
    "import dash_leaflet.express as dlx\n",
    "from dash_extensions.javascript import assign"
   ]
  },
  {
   "cell_type": "markdown",
   "id": "7f248f82",
   "metadata": {},
   "source": [
    "### Exercise: Basic Map Scatterplot"
   ]
  },
  {
   "cell_type": "code",
   "execution_count": null,
   "id": "b87e13eb",
   "metadata": {},
   "outputs": [],
   "source": [
    "point_to_layer = None"
   ]
  },
  {
   "cell_type": "code",
   "execution_count": null,
   "id": "9a99a670",
   "metadata": {},
   "outputs": [],
   "source": [
    "geojson = json.loads(statecities.to_json())\n",
    "geobuf = dlx.geojson_to_geobuf(geojson)  # convert to geobuf\n",
    "cities = dl.GeoJSON(data=geobuf,\n",
    "                    id=\"geojson\",\n",
    "                    format=\"geobuf\",\n",
    "                    options=dict(pointToLayer=point_to_layer))\n",
    "# Create the app.\n",
    "app = JupyterDash()\n",
    "app.layout = html.Div(\n",
    "    [dl.Map(children=[dl.TileLayer(), cities], center=[40.5, -73], zoom=7)],\n",
    "    style={\n",
    "        'width': '1000px',\n",
    "        'height': '500px'\n",
    "    },\n",
    "    id=\"map\")\n",
    "app.run_server(mode='inline', port=random.choice(range(2000, 10000)))"
   ]
  },
  {
   "cell_type": "raw",
   "id": "700adff3",
   "metadata": {},
   "source": [
    "# Final Version\n",
    "point_to_layer = assign(\"\"\"function(feature, latlng, context){\n",
    "    options={fillOpacity: 1, stroke: false, radius:5};\n",
    "    return L.circleMarker(latlng, options);\n",
    "}\"\"\")"
   ]
  },
  {
   "cell_type": "markdown",
   "id": "a4675027",
   "metadata": {},
   "source": [
    "### Exercise 2: Setting Up Scatterplot with colorbar"
   ]
  },
  {
   "cell_type": "code",
   "execution_count": null,
   "id": "55ca6091",
   "metadata": {},
   "outputs": [],
   "source": [
    "colorscale = ['red', 'yellow', 'green', 'blue', 'purple']  # rainbow\n",
    "chroma = \"https://cdnjs.cloudflare.com/ajax/libs/chroma-js/2.1.0/chroma.min.js\"  # js lib used for colors\n",
    "color_prop = 'density'\n",
    "\n",
    "vmax = df[color_prop].max()\n",
    "colorbar = dl.Colorbar(colorscale=colorscale,\n",
    "                       width=20,\n",
    "                       height=150,\n",
    "                       min=0,\n",
    "                       max=vmax,\n",
    "                       unit='/km2')\n",
    "\n",
    "point_to_layer = assign(\"\"\"function(feature, latlng, context){\n",
    "    const {min, max, colorscale, circleOptions, colorProp} = context.props.hideout;\n",
    "    const csc = chroma.scale(colorscale).domain([min, max]);  // chroma lib to construct colorscale\n",
    "    circleOptions.fillColor = csc(feature.properties[colorProp]);  // set color based on color prop.\n",
    "    return L.circleMarker(latlng, circleOptions);  // sender a simple circle marker.\n",
    "}\"\"\")"
   ]
  },
  {
   "cell_type": "code",
   "execution_count": null,
   "id": "e7f6a6ed",
   "metadata": {},
   "outputs": [],
   "source": [
    "cities = dl.GeoJSON(data=geobuf,\n",
    "                    id=\"geojson\",\n",
    "                    format=\"geobuf\",\n",
    "                    options=dict(pointToLayer=point_to_layer),\n",
    "                    hideout=dict(colorProp=color_prop,\n",
    "                                 circleOptions=dict(fillOpacity=1,\n",
    "                                                    stroke=False,\n",
    "                                                    radius=3),\n",
    "                                 min=0,\n",
    "                                 max=vmax,\n",
    "                                 colorscale=colorscale))\n",
    "# Create the app.\n",
    "app = JupyterDash(external_scripts=[chroma])\n",
    "app.layout = html.Div([\n",
    "    dl.Map(children=[dl.TileLayer(), cities, colorbar],\n",
    "           center=[40.5, -73],\n",
    "           zoom=7)\n",
    "],\n",
    "                      style={\n",
    "                          'width': '1000px',\n",
    "                          'height': '500px'\n",
    "                      },\n",
    "                      id=\"map\")\n",
    "app.run_server(mode='inline', port=random.choice(range(2000, 10000)))"
   ]
  }
 ],
 "metadata": {
  "kernelspec": {
   "display_name": "Python 3 (ipykernel)",
   "language": "python",
   "name": "python3"
  },
  "language_info": {
   "codemirror_mode": {
    "name": "ipython",
    "version": 3
   },
   "file_extension": ".py",
   "mimetype": "text/x-python",
   "name": "python",
   "nbconvert_exporter": "python",
   "pygments_lexer": "ipython3",
   "version": "3.9.7"
  }
 },
 "nbformat": 4,
 "nbformat_minor": 5
}
