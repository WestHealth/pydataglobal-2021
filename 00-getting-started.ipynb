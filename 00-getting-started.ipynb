{
 "cells": [
  {
   "cell_type": "markdown",
   "id": "8cc4ce69-ff5a-4f4c-afbe-b1d12b794742",
   "metadata": {},
   "source": [
    "# Map Visualizations with Dash Leaflet\n",
    "\n",
    "### *Haw-minn Lu*\n",
    "### *Senior Data Scientist*\n",
    "### *West Health Institute*"
   ]
  },
  {
   "cell_type": "markdown",
   "id": "9f766281-7384-4793-a838-790f004a7301",
   "metadata": {},
   "source": [
    "## Getting Started\n",
    "\n",
    "#### Prepackaged Docker Images\n",
    "Image for this workshop is available on docker hub. Run with the following commands\n",
    "\n",
    "```\n",
    "docker pull westhealth/pydata-leaflet-tutorial\n",
    "docker run -p8888:8888 westhealth/pydata-leaflet-tutorial\n",
    "```\n",
    "\n",
    "#### Github Repo\n",
    "\n",
    "Same material is available at `https://github.com/WestHealth/pydataglobal-2021` You can look at the `Dockerfile` to see what libraries need to be loaded via `pip/conda/mamba`"
   ]
  },
  {
   "cell_type": "markdown",
   "id": "613044b9-194b-4372-a39d-787850d57d11",
   "metadata": {},
   "source": [
    "## While you are setting up\n",
    "\n",
    "Here is a walkthrough of a map visualization and some of the custom features used. You can find this later at your leisure at https://www.westhealth.org/resource/vaxmap-potential-covid-19-vaccine-locations/"
   ]
  },
  {
   "cell_type": "code",
   "execution_count": null,
   "id": "d7cd5024-4e80-4b6f-b5f5-be9ce3c880ae",
   "metadata": {},
   "outputs": [],
   "source": []
  }
 ],
 "metadata": {
  "kernelspec": {
   "display_name": "Python 3 (ipykernel)",
   "language": "python",
   "name": "python3"
  },
  "language_info": {
   "codemirror_mode": {
    "name": "ipython",
    "version": 3
   },
   "file_extension": ".py",
   "mimetype": "text/x-python",
   "name": "python",
   "nbconvert_exporter": "python",
   "pygments_lexer": "ipython3",
   "version": "3.9.7"
  }
 },
 "nbformat": 4,
 "nbformat_minor": 5
}
