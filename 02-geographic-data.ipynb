{
 "cells": [
  {
   "cell_type": "markdown",
   "source": [
    "# Geographic Data Handling\n",
    "\n",
    "## Data Sources\n",
    "\n",
    " * [US Census Bureau](https://www.census.gov) Look for Cartographic Boundary files\n",
    " * [open street map project](https://www.openstreetmap.org). \n",
    " * [simplemaps.com](https://simplemaps.com/data/us-cities), distributed under the [Creative Commons Attribution 4.0]\n",
    "\n",
    "## Data Formats\n",
    " * GeoJSON\n",
    " * GeoBuf"
   ],
   "metadata": {}
  },
  {
   "cell_type": "markdown",
   "source": [
    "## Simple Example: County File\n",
    "\n",
    "This line of code loads a census county cartographic boundary file. The `GeoDataFrame` structurally looks like a `pandas` dataframe with a special `geometry column`"
   ],
   "metadata": {}
  },
  {
   "cell_type": "code",
   "execution_count": null,
   "source": [
    "import geopandas as gpd\r\n",
    "zipfile = \"zip://data/cb_2018_us_county_20m.zip\"\r\n",
    "gdf = gpd.read_file(zipfile)\r\n",
    "gdf"
   ],
   "outputs": [],
   "metadata": {}
  },
  {
   "cell_type": "markdown",
   "source": [
    "### Geometry\n",
    "The geometry column is a `shaply.geometry` object which is recognized by `matplotlib` and will display by default in Jupyter.\n",
    "Basic types are polygons, multi-polygons, points, and multi-points."
   ],
   "metadata": {}
  },
  {
   "cell_type": "code",
   "execution_count": null,
   "source": [
    "gdf.iloc[1856]"
   ],
   "outputs": [],
   "metadata": {}
  },
  {
   "cell_type": "code",
   "execution_count": null,
   "source": [
    "gdf.iloc[1856]['geometry']"
   ],
   "outputs": [],
   "metadata": {}
  },
  {
   "cell_type": "code",
   "execution_count": null,
   "source": [
    "gdf.iloc[1297]"
   ],
   "outputs": [],
   "metadata": {}
  },
  {
   "cell_type": "code",
   "execution_count": null,
   "source": [
    "gdf.iloc[1297]['geometry']"
   ],
   "outputs": [],
   "metadata": {}
  },
  {
   "cell_type": "markdown",
   "source": [
    "### FIPS codes\n",
    "\n",
    "Federal Information Processing Standards (FIPS) are worth mentioning. FIPS codes uniquely identify all US Territories, Counties and States and are better way to deal geographic regions to avoid issues with mispellings and alternate spellings. State FIPS concatenated with the county FIPS is sometimes called the GEOID"
   ],
   "metadata": {}
  },
  {
   "cell_type": "code",
   "execution_count": null,
   "source": [],
   "outputs": [],
   "metadata": {}
  }
 ],
 "metadata": {
  "kernelspec": {
   "display_name": "Python 3",
   "language": "python",
   "name": "python3"
  },
  "language_info": {
   "codemirror_mode": {
    "name": "ipython",
    "version": 3
   },
   "file_extension": ".py",
   "mimetype": "text/x-python",
   "name": "python",
   "nbconvert_exporter": "python",
   "pygments_lexer": "ipython3",
   "version": "3.8.5"
  }
 },
 "nbformat": 4,
 "nbformat_minor": 5
}