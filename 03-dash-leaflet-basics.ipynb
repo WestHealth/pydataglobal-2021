{
 "cells": [
  {
   "cell_type": "markdown",
   "id": "4726fc67",
   "metadata": {},
   "source": [
    "# Dash Leaflet Basics"
   ]
  },
  {
   "cell_type": "code",
   "execution_count": null,
   "id": "4b70017b",
   "metadata": {},
   "outputs": [],
   "source": [
    "import dash\n",
    "import dash_leaflet as dl\n",
    "from jupyter_dash import JupyterDash\n",
    "import random"
   ]
  },
  {
   "cell_type": "code",
   "execution_count": null,
   "id": "f8d0cd17",
   "metadata": {},
   "outputs": [],
   "source": [
    "from jupyter_dash.comms import _send_jupyter_config_comm_request\n",
    "_send_jupyter_config_comm_request()"
   ]
  },
  {
   "cell_type": "code",
   "execution_count": null,
   "id": "a7c14eed",
   "metadata": {},
   "outputs": [],
   "source": [
    "JupyterDash.infer_jupyter_proxy_config()"
   ]
  },
  {
   "cell_type": "markdown",
   "id": "c3440cde",
   "metadata": {},
   "source": [
    "# Components\n",
    "The three components that you can get the most mileage out of are \n",
    " * `Map`\n",
    " * `TileLayer`\n",
    " \n",
    "## Map\n",
    "`dl.Map` is the container to which all other layers are assembled. You can think of it as a `div` with longitute/latitude coordinates and other map characteristics associated with it. *It is important to remember that layers are built from first child on bottom up.* This is also the way events are interpreted if you have a multitude of GeoJSON layers and you want to make interactions on clicks. \n",
    "```\n",
    "dash_leaflet.Map(children, className, id, style, animate, attribution, attributionControl, bounceAtZoomLimits, bounds, boundsOptions, boxZoom, center, click_lat_lng, closePopupOnClick, crs, dbl_click_lat_lng, doubleClickZoom, dragging, duration, easeLinearity, fadeAnimation, inertia, inertiaDeceleration, inertiaMaxSpeed, keyboard, keyboardPanDelta, location_lat_lon_acc, markerZoomAnimation, maxBounds, maxBoundsViscosity, maxZoom, minZoom, noMoveStart, preferCanvas, renderer, scrollWheelZoom, tap, tapTolerance, touchZoom, trackResize, transform3DLimit, useFlyTo, viewport, wheelDebounceTime, wheelPxPerZoomLevel, worldCopyJump, zoom, zoomAnimation, zoomAnimationThreshold, zoomControl, zoomDelta, zoomSnap)\n",
    "```\n",
    "\n",
    "### Key Display properties\n",
    "  * `style` - especially to set height and width\n",
    "  * `zoom` - sets initial zoom\n",
    "  * `center` - sets coordinates where the map should be centered\n",
    "  * `bounds` - sets the bounds of the map being displayed\n",
    "  \n",
    "\n",
    "#### Leaflet Documentation: https://leafletjs.com/reference-1.7.1.html#map-option\n",
    "\n",
    "### Let's Play\n",
    "The map layer should have a map child of some sort to be interesting. In this example we'll use a tileLayer which we'll describe later."
   ]
  },
  {
   "cell_type": "markdown",
   "id": "772d6400",
   "metadata": {},
   "source": [
    "### EXERCISE 1: Zooming and Centering"
   ]
  },
  {
   "cell_type": "code",
   "execution_count": null,
   "id": "30e1c96d",
   "metadata": {},
   "outputs": [],
   "source": [
    "my_map_style = {'width': '100%', 'height': '500px'}\n",
    "app = JupyterDash()\n",
    "app.layout = dl.Map(dl.TileLayer(), style=my_map_style)\n",
    "app.run_server(mode='inline', port=random.choice(range(2000, 10000)))"
   ]
  },
  {
   "cell_type": "raw",
   "id": "4d660a0c",
   "metadata": {},
   "source": [
    "# Final Result\n",
    "app = JupyterDash()\n",
    "app.layout = dl.Map(dl.TileLayer(),\n",
    "                    center=[39, -98],\n",
    "                    zoom=4,\n",
    "                    style=my_map_style)\n",
    "app.run_server(mode='inline', port=random.choice(range(2000, 10000)))"
   ]
  },
  {
   "cell_type": "markdown",
   "id": "c8461f1e",
   "metadata": {},
   "source": [
    "## TileLayer\n",
    "`dl.TileLayer` draws the map based on a tile server. By default open street map is used. \n",
    "\n",
    "```\n",
    "dash_leaflet.TileLayer(children, className, id, url, attribution, bounds,  crossOrigin, detectRetina, errorTileUrl, keepBuffer, maxNativeZoom, maxZoom, minNativeZoom, minZoom, noWrap, opacity, pane, subdomains, tileSize, tms, updateInterval, updateWhenIdle, updateWhenZooming, zIndex, zoomOffset, zoomReverse)\n",
    "```\n",
    "\n",
    "### Key  Properties\n",
    "  * `url` - URL of tile server open street map used by default. There is a gallery at https://wiki.openstreetmap.org/wiki/Tile_servers\n",
    "  * `attribution` - important as many open source map tile servers require it\n",
    "\n",
    "#### Leaflet Documentation: https://leafletjs.com/reference-1.7.1.html#tilelayer"
   ]
  },
  {
   "cell_type": "markdown",
   "id": "2b36e599",
   "metadata": {},
   "source": [
    "### Exercise 2: Custom Maps"
   ]
  },
  {
   "cell_type": "code",
   "execution_count": null,
   "id": "545f9f03",
   "metadata": {},
   "outputs": [],
   "source": [
    "app = JupyterDash()\n",
    "app.layout = dl.Map(\n",
    "    dl.TileLayer(url=\"https://{s}.tile.openstreetmap.org/{z}/{x}/{y}.png\"),\n",
    "    center=[39, -98],\n",
    "    zoom=4,\n",
    "    style=my_map_style)\n",
    "app.run_server(mode='inline', port=random.choice(range(2000, 10000)))"
   ]
  },
  {
   "cell_type": "raw",
   "id": "adc7dcdf",
   "metadata": {},
   "source": [
    "# Final Result\n",
    "app = JupyterDash()\n",
    "attribution = (\n",
    "    'Map data &copy; <a href=\"https://www.openstreetmap.org/copyright\">OpenStreetMap</a> contributors,'\n",
    "    '<a href=\"https://creativecommons.org/licenses/by-sa/2.0/\">CC-BY-SA</a>')\n",
    "app.layout = dl.Map(dl.TileLayer(\n",
    "    url=\"https://{s}.tile.opentopomap.org/{z}/{x}/{y}.png\",\n",
    "    attribution=attribution),\n",
    "                    center=[39, -98],\n",
    "                    zoom=4,\n",
    "                    style=my_map_style)\n",
    "app.run_server(mode='inline', port=random.choice(range(2000, 10000)))"
   ]
  },
  {
   "cell_type": "markdown",
   "id": "433ea603",
   "metadata": {},
   "source": [
    "# GeoJSON layer\n",
    "\n",
    "```dash_leaflet.GeoJSON(children, id, click_feature, cluster, clusterToLayer, data, format, hideout, hoverStyle, hover_feature,  n_clicks, options, pane, spiderfyOnMaxZoom, superClusterOptions, url, zoomToBounds, zoomToBoundsOnClick)```\n",
    "\n",
    "### Data Properties\n",
    "  * `data` - geographic data to be displayed, boundaries or points\n",
    "  * `format` - `'geojson'` or `'geobuf'`\n",
    "  * `url` - URL to geogrpahic data to be displayed\n",
    "  \n",
    "### Interaction  Properties\n",
    "  * `click_feature` - Returns the feature clicked on\n",
    "  * `hover_feature` - Returns the feature hovered over\n",
    "  * `n_click` - Number of clicks\n",
    "  \n",
    "### Zoom Properties\n",
    "  * `zoomToBounds` - zooms to data\n",
    "  * `zoomToBoundsOnClick` - zooms to data of the clicked feature\n",
    "  \n",
    "\n",
    "  \n",
    "  \n",
    "#### Leaflet Documentation: https://leafletjs.com/reference-1.7.1.html#geojson"
   ]
  },
  {
   "cell_type": "markdown",
   "id": "7b09d48d",
   "metadata": {},
   "source": [
    "### Exercise 3: Outline Maps, Basic Click to Zoom"
   ]
  },
  {
   "cell_type": "code",
   "execution_count": null,
   "id": "fed241da",
   "metadata": {},
   "outputs": [],
   "source": [
    "import geopandas as gpd\n",
    "import json\n",
    "zipfile = \"zip://data/cb_2018_us_state_20m.zip\"\n",
    "gdf = gpd.read_file(zipfile)\n",
    "gdf"
   ]
  },
  {
   "cell_type": "code",
   "execution_count": null,
   "id": "e26ea54f",
   "metadata": {},
   "outputs": [],
   "source": [
    "layer = dl.GeoJSON(data=json.loads(gdf.to_json()))\n",
    "app = JupyterDash()\n",
    "app.layout = dl.Map([layer, dl.TileLayer()],\n",
    "                    center=[39, -98],\n",
    "                    zoom=4,\n",
    "                    style=my_map_style)\n",
    "\n",
    "app.run_server(mode='inline', port=random.choice(range(2000, 10000)))"
   ]
  },
  {
   "cell_type": "code",
   "execution_count": null,
   "id": "043305cb",
   "metadata": {},
   "outputs": [],
   "source": []
  }
 ],
 "metadata": {
  "kernelspec": {
   "display_name": "Python 3 (ipykernel)",
   "language": "python",
   "name": "python3"
  },
  "language_info": {
   "codemirror_mode": {
    "name": "ipython",
    "version": 3
   },
   "file_extension": ".py",
   "mimetype": "text/x-python",
   "name": "python",
   "nbconvert_exporter": "python",
   "pygments_lexer": "ipython3",
   "version": "3.9.7"
  }
 },
 "nbformat": 4,
 "nbformat_minor": 5
}
